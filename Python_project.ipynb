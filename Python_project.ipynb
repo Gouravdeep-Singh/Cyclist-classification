{
 "cells": [
  {
   "cell_type": "code",
   "execution_count": 1,
   "id": "150ae639",
   "metadata": {},
   "outputs": [],
   "source": [
    "import matplotlib.pyplot as plt\n",
    "import pandas as pd\n",
    "x=pd.read_csv(\"202108-divvy-tripdata.csv\")"
   ]
  },
  {
   "cell_type": "markdown",
   "id": "9181ad35",
   "metadata": {},
   "source": [
    "# Knowing the dataset"
   ]
  },
  {
   "cell_type": "code",
   "execution_count": 2,
   "id": "ed4d938c",
   "metadata": {},
   "outputs": [
    {
     "data": {
      "text/plain": [
       "(804352, 13)"
      ]
     },
     "execution_count": 2,
     "metadata": {},
     "output_type": "execute_result"
    }
   ],
   "source": [
    "x.shape"
   ]
  },
  {
   "cell_type": "code",
   "execution_count": 3,
   "id": "c4fd86ad",
   "metadata": {},
   "outputs": [
    {
     "data": {
      "text/plain": [
       "ride_id                object\n",
       "rideable_type          object\n",
       "started_at             object\n",
       "ended_at               object\n",
       "start_station_name     object\n",
       "start_station_id       object\n",
       "end_station_name       object\n",
       "end_station_id         object\n",
       "start_lat             float64\n",
       "start_lng             float64\n",
       "end_lat               float64\n",
       "end_lng               float64\n",
       "member_casual          object\n",
       "dtype: object"
      ]
     },
     "execution_count": 3,
     "metadata": {},
     "output_type": "execute_result"
    }
   ],
   "source": [
    "x.dtypes"
   ]
  },
  {
   "cell_type": "code",
   "execution_count": 4,
   "id": "0566f500",
   "metadata": {},
   "outputs": [
    {
     "data": {
      "text/plain": [
       "ride_id                   0\n",
       "rideable_type             0\n",
       "started_at                0\n",
       "ended_at                  0\n",
       "start_station_name    88458\n",
       "start_station_id      88458\n",
       "end_station_name      94115\n",
       "end_station_id        94115\n",
       "start_lat                 0\n",
       "start_lng                 0\n",
       "end_lat                 706\n",
       "end_lng                 706\n",
       "member_casual             0\n",
       "dtype: int64"
      ]
     },
     "execution_count": 4,
     "metadata": {},
     "output_type": "execute_result"
    }
   ],
   "source": [
    "x.isnull().sum()"
   ]
  },
  {
   "cell_type": "code",
   "execution_count": 5,
   "id": "d6ebbc61",
   "metadata": {},
   "outputs": [
    {
     "name": "stdout",
     "output_type": "stream",
     "text": [
      "<class 'pandas.core.frame.DataFrame'>\n",
      "RangeIndex: 804352 entries, 0 to 804351\n",
      "Data columns (total 13 columns):\n",
      " #   Column              Non-Null Count   Dtype  \n",
      "---  ------              --------------   -----  \n",
      " 0   ride_id             804352 non-null  object \n",
      " 1   rideable_type       804352 non-null  object \n",
      " 2   started_at          804352 non-null  object \n",
      " 3   ended_at            804352 non-null  object \n",
      " 4   start_station_name  715894 non-null  object \n",
      " 5   start_station_id    715894 non-null  object \n",
      " 6   end_station_name    710237 non-null  object \n",
      " 7   end_station_id      710237 non-null  object \n",
      " 8   start_lat           804352 non-null  float64\n",
      " 9   start_lng           804352 non-null  float64\n",
      " 10  end_lat             803646 non-null  float64\n",
      " 11  end_lng             803646 non-null  float64\n",
      " 12  member_casual       804352 non-null  object \n",
      "dtypes: float64(4), object(9)\n",
      "memory usage: 79.8+ MB\n"
     ]
    }
   ],
   "source": [
    "x.info()"
   ]
  },
  {
   "cell_type": "code",
   "execution_count": 6,
   "id": "7d471c38",
   "metadata": {},
   "outputs": [],
   "source": [
    "x.dropna(how=\"any\",subset=[\"start_station_name\",\"start_station_id\",\"end_station_name\",\"end_station_id\"],inplace=True)"
   ]
  },
  {
   "cell_type": "code",
   "execution_count": 7,
   "id": "6ac0f578",
   "metadata": {},
   "outputs": [
    {
     "data": {
      "text/plain": [
       "(674409, 13)"
      ]
     },
     "execution_count": 7,
     "metadata": {},
     "output_type": "execute_result"
    }
   ],
   "source": [
    "x.shape"
   ]
  },
  {
   "cell_type": "code",
   "execution_count": 8,
   "id": "7981d05b",
   "metadata": {},
   "outputs": [
    {
     "data": {
      "text/plain": [
       "ride_id               0\n",
       "rideable_type         0\n",
       "started_at            0\n",
       "ended_at              0\n",
       "start_station_name    0\n",
       "start_station_id      0\n",
       "end_station_name      0\n",
       "end_station_id        0\n",
       "start_lat             0\n",
       "start_lng             0\n",
       "end_lat               0\n",
       "end_lng               0\n",
       "member_casual         0\n",
       "dtype: int64"
      ]
     },
     "execution_count": 8,
     "metadata": {},
     "output_type": "execute_result"
    }
   ],
   "source": [
    "x.isnull().sum()"
   ]
  },
  {
   "cell_type": "markdown",
   "id": "69b7d2c9",
   "metadata": {},
   "source": [
    "# Encoding"
   ]
  },
  {
   "cell_type": "code",
   "execution_count": 9,
   "id": "f227fecb",
   "metadata": {},
   "outputs": [],
   "source": [
    "from sklearn.preprocessing import LabelEncoder\n",
    "lb=LabelEncoder()\n",
    "x[\"member_casual\"]=lb.fit_transform(x[\"member_casual\"])\n",
    "x[\"rideable_type\"]=lb.fit_transform(x[\"rideable_type\"])"
   ]
  },
  {
   "cell_type": "code",
   "execution_count": 10,
   "id": "43a3debb",
   "metadata": {},
   "outputs": [
    {
     "data": {
      "text/plain": [
       "0    501829\n",
       "2    127515\n",
       "1     45065\n",
       "Name: rideable_type, dtype: int64"
      ]
     },
     "execution_count": 10,
     "metadata": {},
     "output_type": "execute_result"
    }
   ],
   "source": [
    "x[\"rideable_type\"].value_counts()"
   ]
  },
  {
   "cell_type": "code",
   "execution_count": 11,
   "id": "41c95bd0",
   "metadata": {},
   "outputs": [
    {
     "data": {
      "text/plain": [
       "0    341476\n",
       "1    332933\n",
       "Name: member_casual, dtype: int64"
      ]
     },
     "execution_count": 11,
     "metadata": {},
     "output_type": "execute_result"
    }
   ],
   "source": [
    "x[\"member_casual\"].value_counts()"
   ]
  },
  {
   "cell_type": "code",
   "execution_count": 20,
   "id": "eec61ec8",
   "metadata": {},
   "outputs": [],
   "source": [
    "x[\"member_casual\"]= pd.to_numeric(x[\"member_casual\"])\n",
    "x[\"rideable_type\"]= pd.to_numeric(x[\"rideable_type\"])"
   ]
  },
  {
   "cell_type": "code",
   "execution_count": 21,
   "id": "61de9c0c",
   "metadata": {},
   "outputs": [
    {
     "data": {
      "text/plain": [
       "ride_id                object\n",
       "rideable_type           int32\n",
       "started_at             object\n",
       "ended_at               object\n",
       "start_station_name     object\n",
       "start_station_id       object\n",
       "end_station_name       object\n",
       "end_station_id         object\n",
       "start_lat             float64\n",
       "start_lng             float64\n",
       "end_lat               float64\n",
       "end_lng               float64\n",
       "member_casual           int32\n",
       "dtype: object"
      ]
     },
     "execution_count": 21,
     "metadata": {},
     "output_type": "execute_result"
    }
   ],
   "source": [
    "x.dtypes"
   ]
  },
  {
   "cell_type": "code",
   "execution_count": 22,
   "id": "8e4ca369",
   "metadata": {},
   "outputs": [],
   "source": [
    "index=[]\n",
    "for i in range(0,10000):\n",
    "    index.append(i)"
   ]
  },
  {
   "cell_type": "code",
   "execution_count": 23,
   "id": "78f0d899",
   "metadata": {},
   "outputs": [
    {
     "name": "stderr",
     "output_type": "stream",
     "text": [
      "C:\\Users\\hp\\AppData\\Local\\Temp\\ipykernel_14340\\1963601974.py:2: SettingWithCopyWarning: \n",
      "A value is trying to be set on a copy of a slice from a DataFrame.\n",
      "Try using .loc[row_indexer,col_indexer] = value instead\n",
      "\n",
      "See the caveats in the documentation: https://pandas.pydata.org/pandas-docs/stable/user_guide/indexing.html#returning-a-view-versus-a-copy\n",
      "  df[\"index\"]=index\n"
     ]
    }
   ],
   "source": [
    "df=x[:10000]\n",
    "df[\"index\"]=index"
   ]
  },
  {
   "cell_type": "code",
   "execution_count": 24,
   "id": "25892951",
   "metadata": {},
   "outputs": [],
   "source": [
    "df.set_index('index',inplace=True)"
   ]
  },
  {
   "cell_type": "markdown",
   "id": "51fae5b5",
   "metadata": {},
   "source": [
    "# Extracting Time"
   ]
  },
  {
   "cell_type": "code",
   "execution_count": 25,
   "id": "92a1547e",
   "metadata": {},
   "outputs": [
    {
     "name": "stderr",
     "output_type": "stream",
     "text": [
      "C:\\Users\\hp\\AppData\\Local\\Temp\\ipykernel_14340\\4136972563.py:1: SettingWithCopyWarning: \n",
      "A value is trying to be set on a copy of a slice from a DataFrame.\n",
      "Try using .loc[row_indexer,col_indexer] = value instead\n",
      "\n",
      "See the caveats in the documentation: https://pandas.pydata.org/pandas-docs/stable/user_guide/indexing.html#returning-a-view-versus-a-copy\n",
      "  df[\"started_at\"]=pd.to_datetime(df[\"started_at\"])\n",
      "C:\\Users\\hp\\AppData\\Local\\Temp\\ipykernel_14340\\4136972563.py:2: SettingWithCopyWarning: \n",
      "A value is trying to be set on a copy of a slice from a DataFrame.\n",
      "Try using .loc[row_indexer,col_indexer] = value instead\n",
      "\n",
      "See the caveats in the documentation: https://pandas.pydata.org/pandas-docs/stable/user_guide/indexing.html#returning-a-view-versus-a-copy\n",
      "  df[\"ended_at\"]=pd.to_datetime(df[\"ended_at\"])\n"
     ]
    }
   ],
   "source": [
    "df[\"started_at\"]=pd.to_datetime(df[\"started_at\"])\n",
    "df[\"ended_at\"]=pd.to_datetime(df[\"ended_at\"])"
   ]
  },
  {
   "cell_type": "code",
   "execution_count": 26,
   "id": "437968ae",
   "metadata": {},
   "outputs": [
    {
     "data": {
      "text/plain": [
       "index\n",
       "0       17:21:26\n",
       "1       08:53:52\n",
       "2       12:59:18\n",
       "3       16:52:09\n",
       "4       15:33:04\n",
       "          ...   \n",
       "9995    18:36:57\n",
       "9996    21:58:05\n",
       "9997    21:18:13\n",
       "9998    14:45:16\n",
       "9999    09:07:34\n",
       "Name: started_at, Length: 10000, dtype: object"
      ]
     },
     "execution_count": 26,
     "metadata": {},
     "output_type": "execute_result"
    }
   ],
   "source": [
    "df[\"started_at\"].dt.time"
   ]
  },
  {
   "cell_type": "code",
   "execution_count": 27,
   "id": "fc39bd15",
   "metadata": {},
   "outputs": [
    {
     "data": {
      "text/plain": [
       "index\n",
       "0       17:25:37\n",
       "1       09:18:29\n",
       "2       12:59:55\n",
       "3       16:56:51\n",
       "4       16:09:00\n",
       "          ...   \n",
       "9995    18:51:38\n",
       "9996    22:06:19\n",
       "9997    21:30:29\n",
       "9998    14:59:44\n",
       "9999    09:16:07\n",
       "Name: ended_at, Length: 10000, dtype: object"
      ]
     },
     "execution_count": 27,
     "metadata": {},
     "output_type": "execute_result"
    }
   ],
   "source": [
    "df[\"ended_at\"].dt.time"
   ]
  },
  {
   "cell_type": "code",
   "execution_count": 28,
   "id": "b1fca24e",
   "metadata": {},
   "outputs": [],
   "source": [
    "import datetime\n",
    "t=[]  \n",
    "for i in range(0,10000):\n",
    "    s1=df[\"started_at\"].dt.strftime(\"%S\")[i]\n",
    "    s2=df[\"ended_at\"].dt.strftime(\"%S\")[i]\n",
    "\n",
    "    m1=df[\"started_at\"].dt.strftime(\"%M\")[i]\n",
    "    m2=df[\"ended_at\"].dt.strftime(\"%M\")[i]\n",
    "    \n",
    "    h1=df[\"started_at\"].dt.strftime(\"%H\")[i]\n",
    "    h2=df[\"ended_at\"].dt.strftime(\"%H\")[i]\n",
    "    \n",
    "    y1=df[\"started_at\"].dt.strftime(\"%Y\")[i]\n",
    "    y2=df[\"ended_at\"].dt.strftime(\"%Y\")[i]\n",
    "    \n",
    "    mo1=df[\"started_at\"].dt.strftime(\"%m\")[i]\n",
    "    mo2=df[\"ended_at\"].dt.strftime(\"%m\")[i]\n",
    "    \n",
    "    d1=df[\"started_at\"].dt.strftime(\"%d\")[i]\n",
    "    d2=df[\"ended_at\"].dt.strftime(\"%d\")[i]\n",
    "    \n",
    "    \n",
    "    d=datetime.datetime(int(y2),int(mo2),int(d2),int(h2),int(m2),int(s2))-datetime.datetime(int(y1),int(mo1),int(d1),int(h1),int(m1),int(s1))\n",
    "    d1=d.seconds/60 \n",
    "    t.append(d1)"
   ]
  },
  {
   "cell_type": "code",
   "execution_count": 29,
   "id": "6d2c60a8",
   "metadata": {},
   "outputs": [
    {
     "name": "stderr",
     "output_type": "stream",
     "text": [
      "C:\\Users\\hp\\AppData\\Local\\Temp\\ipykernel_14340\\2462465018.py:1: SettingWithCopyWarning: \n",
      "A value is trying to be set on a copy of a slice from a DataFrame.\n",
      "Try using .loc[row_indexer,col_indexer] = value instead\n",
      "\n",
      "See the caveats in the documentation: https://pandas.pydata.org/pandas-docs/stable/user_guide/indexing.html#returning-a-view-versus-a-copy\n",
      "  df[\"Time_taken(min)\"]=t\n"
     ]
    },
    {
     "data": {
      "text/html": [
       "<div>\n",
       "<style scoped>\n",
       "    .dataframe tbody tr th:only-of-type {\n",
       "        vertical-align: middle;\n",
       "    }\n",
       "\n",
       "    .dataframe tbody tr th {\n",
       "        vertical-align: top;\n",
       "    }\n",
       "\n",
       "    .dataframe thead th {\n",
       "        text-align: right;\n",
       "    }\n",
       "</style>\n",
       "<table border=\"1\" class=\"dataframe\">\n",
       "  <thead>\n",
       "    <tr style=\"text-align: right;\">\n",
       "      <th></th>\n",
       "      <th>ride_id</th>\n",
       "      <th>rideable_type</th>\n",
       "      <th>started_at</th>\n",
       "      <th>ended_at</th>\n",
       "      <th>start_station_name</th>\n",
       "      <th>start_station_id</th>\n",
       "      <th>end_station_name</th>\n",
       "      <th>end_station_id</th>\n",
       "      <th>start_lat</th>\n",
       "      <th>start_lng</th>\n",
       "      <th>end_lat</th>\n",
       "      <th>end_lng</th>\n",
       "      <th>member_casual</th>\n",
       "      <th>Time_taken(min)</th>\n",
       "    </tr>\n",
       "    <tr>\n",
       "      <th>index</th>\n",
       "      <th></th>\n",
       "      <th></th>\n",
       "      <th></th>\n",
       "      <th></th>\n",
       "      <th></th>\n",
       "      <th></th>\n",
       "      <th></th>\n",
       "      <th></th>\n",
       "      <th></th>\n",
       "      <th></th>\n",
       "      <th></th>\n",
       "      <th></th>\n",
       "      <th></th>\n",
       "      <th></th>\n",
       "    </tr>\n",
       "  </thead>\n",
       "  <tbody>\n",
       "    <tr>\n",
       "      <th>0</th>\n",
       "      <td>DD06751C6019D865</td>\n",
       "      <td>0</td>\n",
       "      <td>2021-08-08 17:21:26</td>\n",
       "      <td>2021-08-08 17:25:37</td>\n",
       "      <td>Desplaines St &amp; Kinzie St</td>\n",
       "      <td>TA1306000003</td>\n",
       "      <td>Kingsbury St &amp; Kinzie St</td>\n",
       "      <td>KA1503000043</td>\n",
       "      <td>41.888716</td>\n",
       "      <td>-87.644448</td>\n",
       "      <td>41.889177</td>\n",
       "      <td>-87.638506</td>\n",
       "      <td>1</td>\n",
       "      <td>4.183333</td>\n",
       "    </tr>\n",
       "    <tr>\n",
       "      <th>1</th>\n",
       "      <td>79973DC3B232048F</td>\n",
       "      <td>0</td>\n",
       "      <td>2021-08-27 08:53:52</td>\n",
       "      <td>2021-08-27 09:18:29</td>\n",
       "      <td>Larrabee St &amp; Armitage Ave</td>\n",
       "      <td>TA1309000006</td>\n",
       "      <td>Michigan Ave &amp; Oak St</td>\n",
       "      <td>13042</td>\n",
       "      <td>41.918084</td>\n",
       "      <td>-87.643749</td>\n",
       "      <td>41.900960</td>\n",
       "      <td>-87.623777</td>\n",
       "      <td>1</td>\n",
       "      <td>24.616667</td>\n",
       "    </tr>\n",
       "    <tr>\n",
       "      <th>2</th>\n",
       "      <td>0249AD4B258806AD</td>\n",
       "      <td>0</td>\n",
       "      <td>2021-08-08 12:59:18</td>\n",
       "      <td>2021-08-08 12:59:55</td>\n",
       "      <td>Aberdeen St &amp; Jackson Blvd</td>\n",
       "      <td>13157</td>\n",
       "      <td>Aberdeen St &amp; Jackson Blvd</td>\n",
       "      <td>13157</td>\n",
       "      <td>41.877726</td>\n",
       "      <td>-87.654787</td>\n",
       "      <td>41.877726</td>\n",
       "      <td>-87.654787</td>\n",
       "      <td>1</td>\n",
       "      <td>0.616667</td>\n",
       "    </tr>\n",
       "    <tr>\n",
       "      <th>3</th>\n",
       "      <td>F41EB054E44ACFDA</td>\n",
       "      <td>0</td>\n",
       "      <td>2021-08-12 16:52:09</td>\n",
       "      <td>2021-08-12 16:56:51</td>\n",
       "      <td>Michigan Ave &amp; Oak St</td>\n",
       "      <td>13042</td>\n",
       "      <td>Michigan Ave &amp; Oak St</td>\n",
       "      <td>13042</td>\n",
       "      <td>41.900960</td>\n",
       "      <td>-87.623777</td>\n",
       "      <td>41.900960</td>\n",
       "      <td>-87.623777</td>\n",
       "      <td>0</td>\n",
       "      <td>4.700000</td>\n",
       "    </tr>\n",
       "    <tr>\n",
       "      <th>4</th>\n",
       "      <td>B149E6C71A1C3B14</td>\n",
       "      <td>0</td>\n",
       "      <td>2021-08-23 15:33:04</td>\n",
       "      <td>2021-08-23 16:09:00</td>\n",
       "      <td>Michigan Ave &amp; Oak St</td>\n",
       "      <td>13042</td>\n",
       "      <td>Michigan Ave &amp; Oak St</td>\n",
       "      <td>13042</td>\n",
       "      <td>41.900960</td>\n",
       "      <td>-87.623777</td>\n",
       "      <td>41.900960</td>\n",
       "      <td>-87.623777</td>\n",
       "      <td>0</td>\n",
       "      <td>35.933333</td>\n",
       "    </tr>\n",
       "  </tbody>\n",
       "</table>\n",
       "</div>"
      ],
      "text/plain": [
       "                ride_id  rideable_type          started_at  \\\n",
       "index                                                        \n",
       "0      DD06751C6019D865              0 2021-08-08 17:21:26   \n",
       "1      79973DC3B232048F              0 2021-08-27 08:53:52   \n",
       "2      0249AD4B258806AD              0 2021-08-08 12:59:18   \n",
       "3      F41EB054E44ACFDA              0 2021-08-12 16:52:09   \n",
       "4      B149E6C71A1C3B14              0 2021-08-23 15:33:04   \n",
       "\n",
       "                 ended_at          start_station_name start_station_id  \\\n",
       "index                                                                    \n",
       "0     2021-08-08 17:25:37   Desplaines St & Kinzie St     TA1306000003   \n",
       "1     2021-08-27 09:18:29  Larrabee St & Armitage Ave     TA1309000006   \n",
       "2     2021-08-08 12:59:55  Aberdeen St & Jackson Blvd            13157   \n",
       "3     2021-08-12 16:56:51       Michigan Ave & Oak St            13042   \n",
       "4     2021-08-23 16:09:00       Michigan Ave & Oak St            13042   \n",
       "\n",
       "                 end_station_name end_station_id  start_lat  start_lng  \\\n",
       "index                                                                    \n",
       "0        Kingsbury St & Kinzie St   KA1503000043  41.888716 -87.644448   \n",
       "1           Michigan Ave & Oak St          13042  41.918084 -87.643749   \n",
       "2      Aberdeen St & Jackson Blvd          13157  41.877726 -87.654787   \n",
       "3           Michigan Ave & Oak St          13042  41.900960 -87.623777   \n",
       "4           Michigan Ave & Oak St          13042  41.900960 -87.623777   \n",
       "\n",
       "         end_lat    end_lng  member_casual  Time_taken(min)  \n",
       "index                                                        \n",
       "0      41.889177 -87.638506              1         4.183333  \n",
       "1      41.900960 -87.623777              1        24.616667  \n",
       "2      41.877726 -87.654787              1         0.616667  \n",
       "3      41.900960 -87.623777              0         4.700000  \n",
       "4      41.900960 -87.623777              0        35.933333  "
      ]
     },
     "execution_count": 29,
     "metadata": {},
     "output_type": "execute_result"
    }
   ],
   "source": [
    "df[\"Time_taken(min)\"]=t\n",
    "df.head()"
   ]
  },
  {
   "cell_type": "code",
   "execution_count": 34,
   "id": "2b7aeb09",
   "metadata": {},
   "outputs": [
    {
     "data": {
      "text/html": [
       "<div>\n",
       "<style scoped>\n",
       "    .dataframe tbody tr th:only-of-type {\n",
       "        vertical-align: middle;\n",
       "    }\n",
       "\n",
       "    .dataframe tbody tr th {\n",
       "        vertical-align: top;\n",
       "    }\n",
       "\n",
       "    .dataframe thead th {\n",
       "        text-align: right;\n",
       "    }\n",
       "</style>\n",
       "<table border=\"1\" class=\"dataframe\">\n",
       "  <thead>\n",
       "    <tr style=\"text-align: right;\">\n",
       "      <th></th>\n",
       "      <th>rideable_type</th>\n",
       "      <th>start_lat</th>\n",
       "      <th>start_lng</th>\n",
       "      <th>end_lat</th>\n",
       "      <th>end_lng</th>\n",
       "      <th>member_casual</th>\n",
       "      <th>Time_taken(min)</th>\n",
       "    </tr>\n",
       "  </thead>\n",
       "  <tbody>\n",
       "    <tr>\n",
       "      <th>count</th>\n",
       "      <td>10000.000000</td>\n",
       "      <td>10000.000000</td>\n",
       "      <td>10000.000000</td>\n",
       "      <td>10000.000000</td>\n",
       "      <td>10000.000000</td>\n",
       "      <td>10000.000000</td>\n",
       "      <td>10000.000000</td>\n",
       "    </tr>\n",
       "    <tr>\n",
       "      <th>mean</th>\n",
       "      <td>0.439900</td>\n",
       "      <td>41.910289</td>\n",
       "      <td>-87.647411</td>\n",
       "      <td>41.909965</td>\n",
       "      <td>-87.647623</td>\n",
       "      <td>0.442000</td>\n",
       "      <td>21.575095</td>\n",
       "    </tr>\n",
       "    <tr>\n",
       "      <th>std</th>\n",
       "      <td>0.794891</td>\n",
       "      <td>0.042364</td>\n",
       "      <td>0.024052</td>\n",
       "      <td>0.041542</td>\n",
       "      <td>0.024790</td>\n",
       "      <td>0.496649</td>\n",
       "      <td>40.986387</td>\n",
       "    </tr>\n",
       "    <tr>\n",
       "      <th>min</th>\n",
       "      <td>0.000000</td>\n",
       "      <td>41.684994</td>\n",
       "      <td>-87.780000</td>\n",
       "      <td>41.687015</td>\n",
       "      <td>-87.780000</td>\n",
       "      <td>0.000000</td>\n",
       "      <td>0.016667</td>\n",
       "    </tr>\n",
       "    <tr>\n",
       "      <th>25%</th>\n",
       "      <td>0.000000</td>\n",
       "      <td>41.883073</td>\n",
       "      <td>-87.659753</td>\n",
       "      <td>41.883984</td>\n",
       "      <td>-87.660923</td>\n",
       "      <td>0.000000</td>\n",
       "      <td>6.400000</td>\n",
       "    </tr>\n",
       "    <tr>\n",
       "      <th>50%</th>\n",
       "      <td>0.000000</td>\n",
       "      <td>41.906866</td>\n",
       "      <td>-87.651156</td>\n",
       "      <td>41.904613</td>\n",
       "      <td>-87.648950</td>\n",
       "      <td>0.000000</td>\n",
       "      <td>11.850000</td>\n",
       "    </tr>\n",
       "    <tr>\n",
       "      <th>75%</th>\n",
       "      <td>0.000000</td>\n",
       "      <td>41.936316</td>\n",
       "      <td>-87.629542</td>\n",
       "      <td>41.936266</td>\n",
       "      <td>-87.626217</td>\n",
       "      <td>1.000000</td>\n",
       "      <td>23.354167</td>\n",
       "    </tr>\n",
       "    <tr>\n",
       "      <th>max</th>\n",
       "      <td>2.000000</td>\n",
       "      <td>42.064305</td>\n",
       "      <td>-87.548515</td>\n",
       "      <td>42.064854</td>\n",
       "      <td>-87.549700</td>\n",
       "      <td>1.000000</td>\n",
       "      <td>1097.966667</td>\n",
       "    </tr>\n",
       "  </tbody>\n",
       "</table>\n",
       "</div>"
      ],
      "text/plain": [
       "       rideable_type     start_lat     start_lng       end_lat       end_lng  \\\n",
       "count   10000.000000  10000.000000  10000.000000  10000.000000  10000.000000   \n",
       "mean        0.439900     41.910289    -87.647411     41.909965    -87.647623   \n",
       "std         0.794891      0.042364      0.024052      0.041542      0.024790   \n",
       "min         0.000000     41.684994    -87.780000     41.687015    -87.780000   \n",
       "25%         0.000000     41.883073    -87.659753     41.883984    -87.660923   \n",
       "50%         0.000000     41.906866    -87.651156     41.904613    -87.648950   \n",
       "75%         0.000000     41.936316    -87.629542     41.936266    -87.626217   \n",
       "max         2.000000     42.064305    -87.548515     42.064854    -87.549700   \n",
       "\n",
       "       member_casual  Time_taken(min)  \n",
       "count   10000.000000     10000.000000  \n",
       "mean        0.442000        21.575095  \n",
       "std         0.496649        40.986387  \n",
       "min         0.000000         0.016667  \n",
       "25%         0.000000         6.400000  \n",
       "50%         0.000000        11.850000  \n",
       "75%         1.000000        23.354167  \n",
       "max         1.000000      1097.966667  "
      ]
     },
     "execution_count": 34,
     "metadata": {},
     "output_type": "execute_result"
    }
   ],
   "source": [
    "df.describe()"
   ]
  },
  {
   "cell_type": "markdown",
   "id": "b1efb983",
   "metadata": {},
   "source": [
    "# Variance threshold"
   ]
  },
  {
   "cell_type": "code",
   "execution_count": 35,
   "id": "bc183f6c",
   "metadata": {},
   "outputs": [
    {
     "data": {
      "text/html": [
       "<style>#sk-container-id-1 {color: black;background-color: white;}#sk-container-id-1 pre{padding: 0;}#sk-container-id-1 div.sk-toggleable {background-color: white;}#sk-container-id-1 label.sk-toggleable__label {cursor: pointer;display: block;width: 100%;margin-bottom: 0;padding: 0.3em;box-sizing: border-box;text-align: center;}#sk-container-id-1 label.sk-toggleable__label-arrow:before {content: \"▸\";float: left;margin-right: 0.25em;color: #696969;}#sk-container-id-1 label.sk-toggleable__label-arrow:hover:before {color: black;}#sk-container-id-1 div.sk-estimator:hover label.sk-toggleable__label-arrow:before {color: black;}#sk-container-id-1 div.sk-toggleable__content {max-height: 0;max-width: 0;overflow: hidden;text-align: left;background-color: #f0f8ff;}#sk-container-id-1 div.sk-toggleable__content pre {margin: 0.2em;color: black;border-radius: 0.25em;background-color: #f0f8ff;}#sk-container-id-1 input.sk-toggleable__control:checked~div.sk-toggleable__content {max-height: 200px;max-width: 100%;overflow: auto;}#sk-container-id-1 input.sk-toggleable__control:checked~label.sk-toggleable__label-arrow:before {content: \"▾\";}#sk-container-id-1 div.sk-estimator input.sk-toggleable__control:checked~label.sk-toggleable__label {background-color: #d4ebff;}#sk-container-id-1 div.sk-label input.sk-toggleable__control:checked~label.sk-toggleable__label {background-color: #d4ebff;}#sk-container-id-1 input.sk-hidden--visually {border: 0;clip: rect(1px 1px 1px 1px);clip: rect(1px, 1px, 1px, 1px);height: 1px;margin: -1px;overflow: hidden;padding: 0;position: absolute;width: 1px;}#sk-container-id-1 div.sk-estimator {font-family: monospace;background-color: #f0f8ff;border: 1px dotted black;border-radius: 0.25em;box-sizing: border-box;margin-bottom: 0.5em;}#sk-container-id-1 div.sk-estimator:hover {background-color: #d4ebff;}#sk-container-id-1 div.sk-parallel-item::after {content: \"\";width: 100%;border-bottom: 1px solid gray;flex-grow: 1;}#sk-container-id-1 div.sk-label:hover label.sk-toggleable__label {background-color: #d4ebff;}#sk-container-id-1 div.sk-serial::before {content: \"\";position: absolute;border-left: 1px solid gray;box-sizing: border-box;top: 0;bottom: 0;left: 50%;z-index: 0;}#sk-container-id-1 div.sk-serial {display: flex;flex-direction: column;align-items: center;background-color: white;padding-right: 0.2em;padding-left: 0.2em;position: relative;}#sk-container-id-1 div.sk-item {position: relative;z-index: 1;}#sk-container-id-1 div.sk-parallel {display: flex;align-items: stretch;justify-content: center;background-color: white;position: relative;}#sk-container-id-1 div.sk-item::before, #sk-container-id-1 div.sk-parallel-item::before {content: \"\";position: absolute;border-left: 1px solid gray;box-sizing: border-box;top: 0;bottom: 0;left: 50%;z-index: -1;}#sk-container-id-1 div.sk-parallel-item {display: flex;flex-direction: column;z-index: 1;position: relative;background-color: white;}#sk-container-id-1 div.sk-parallel-item:first-child::after {align-self: flex-end;width: 50%;}#sk-container-id-1 div.sk-parallel-item:last-child::after {align-self: flex-start;width: 50%;}#sk-container-id-1 div.sk-parallel-item:only-child::after {width: 0;}#sk-container-id-1 div.sk-dashed-wrapped {border: 1px dashed gray;margin: 0 0.4em 0.5em 0.4em;box-sizing: border-box;padding-bottom: 0.4em;background-color: white;}#sk-container-id-1 div.sk-label label {font-family: monospace;font-weight: bold;display: inline-block;line-height: 1.2em;}#sk-container-id-1 div.sk-label-container {text-align: center;}#sk-container-id-1 div.sk-container {/* jupyter's `normalize.less` sets `[hidden] { display: none; }` but bootstrap.min.css set `[hidden] { display: none !important; }` so we also need the `!important` here to be able to override the default hidden behavior on the sphinx rendered scikit-learn.org. See: https://github.com/scikit-learn/scikit-learn/issues/21755 */display: inline-block !important;position: relative;}#sk-container-id-1 div.sk-text-repr-fallback {display: none;}</style><div id=\"sk-container-id-1\" class=\"sk-top-container\"><div class=\"sk-text-repr-fallback\"><pre>VarianceThreshold(threshold=0.5)</pre><b>In a Jupyter environment, please rerun this cell to show the HTML representation or trust the notebook. <br />On GitHub, the HTML representation is unable to render, please try loading this page with nbviewer.org.</b></div><div class=\"sk-container\" hidden><div class=\"sk-item\"><div class=\"sk-estimator sk-toggleable\"><input class=\"sk-toggleable__control sk-hidden--visually\" id=\"sk-estimator-id-1\" type=\"checkbox\" checked><label for=\"sk-estimator-id-1\" class=\"sk-toggleable__label sk-toggleable__label-arrow\">VarianceThreshold</label><div class=\"sk-toggleable__content\"><pre>VarianceThreshold(threshold=0.5)</pre></div></div></div></div></div>"
      ],
      "text/plain": [
       "VarianceThreshold(threshold=0.5)"
      ]
     },
     "execution_count": 35,
     "metadata": {},
     "output_type": "execute_result"
    }
   ],
   "source": [
    "from sklearn.feature_selection import VarianceThreshold\n",
    "v=VarianceThreshold(threshold=0.5)\n",
    "v.fit(df[[\"rideable_type\",\"Time_taken(min)\",'start_lat','start_lng','end_lat','end_lng']])"
   ]
  },
  {
   "cell_type": "code",
   "execution_count": 36,
   "id": "d9987be1",
   "metadata": {},
   "outputs": [
    {
     "data": {
      "text/plain": [
       "array([ True,  True, False, False, False, False])"
      ]
     },
     "execution_count": 36,
     "metadata": {},
     "output_type": "execute_result"
    }
   ],
   "source": [
    "v.get_support()"
   ]
  },
  {
   "cell_type": "markdown",
   "id": "0d3ec2df",
   "metadata": {},
   "source": [
    "# Correlation"
   ]
  },
  {
   "cell_type": "code",
   "execution_count": 25,
   "id": "aff52934",
   "metadata": {},
   "outputs": [
    {
     "data": {
      "text/plain": [
       "<AxesSubplot:>"
      ]
     },
     "execution_count": 25,
     "metadata": {},
     "output_type": "execute_result"
    },
    {
     "data": {
      "image/png": "[encoded data removed]",
      "text/plain": [
       "<Figure size 432x288 with 2 Axes>"
      ]
     },
     "metadata": {
      "needs_background": "light"
     },
     "output_type": "display_data"
    }
   ],
   "source": [
    "import seaborn as sns\n",
    "corr_matrix=df.corr()\n",
    "sns.heatmap(data = corr_matrix,annot=True,cmap=plt.cm.coolwarm)"
   ]
  },
  {
   "cell_type": "code",
   "execution_count": 37,
   "id": "0e516e00",
   "metadata": {},
   "outputs": [
    {
     "data": {
      "text/html": [
       "<style>#sk-container-id-2 {color: black;background-color: white;}#sk-container-id-2 pre{padding: 0;}#sk-container-id-2 div.sk-toggleable {background-color: white;}#sk-container-id-2 label.sk-toggleable__label {cursor: pointer;display: block;width: 100%;margin-bottom: 0;padding: 0.3em;box-sizing: border-box;text-align: center;}#sk-container-id-2 label.sk-toggleable__label-arrow:before {content: \"▸\";float: left;margin-right: 0.25em;color: #696969;}#sk-container-id-2 label.sk-toggleable__label-arrow:hover:before {color: black;}#sk-container-id-2 div.sk-estimator:hover label.sk-toggleable__label-arrow:before {color: black;}#sk-container-id-2 div.sk-toggleable__content {max-height: 0;max-width: 0;overflow: hidden;text-align: left;background-color: #f0f8ff;}#sk-container-id-2 div.sk-toggleable__content pre {margin: 0.2em;color: black;border-radius: 0.25em;background-color: #f0f8ff;}#sk-container-id-2 input.sk-toggleable__control:checked~div.sk-toggleable__content {max-height: 200px;max-width: 100%;overflow: auto;}#sk-container-id-2 input.sk-toggleable__control:checked~label.sk-toggleable__label-arrow:before {content: \"▾\";}#sk-container-id-2 div.sk-estimator input.sk-toggleable__control:checked~label.sk-toggleable__label {background-color: #d4ebff;}#sk-container-id-2 div.sk-label input.sk-toggleable__control:checked~label.sk-toggleable__label {background-color: #d4ebff;}#sk-container-id-2 input.sk-hidden--visually {border: 0;clip: rect(1px 1px 1px 1px);clip: rect(1px, 1px, 1px, 1px);height: 1px;margin: -1px;overflow: hidden;padding: 0;position: absolute;width: 1px;}#sk-container-id-2 div.sk-estimator {font-family: monospace;background-color: #f0f8ff;border: 1px dotted black;border-radius: 0.25em;box-sizing: border-box;margin-bottom: 0.5em;}#sk-container-id-2 div.sk-estimator:hover {background-color: #d4ebff;}#sk-container-id-2 div.sk-parallel-item::after {content: \"\";width: 100%;border-bottom: 1px solid gray;flex-grow: 1;}#sk-container-id-2 div.sk-label:hover label.sk-toggleable__label {background-color: #d4ebff;}#sk-container-id-2 div.sk-serial::before {content: \"\";position: absolute;border-left: 1px solid gray;box-sizing: border-box;top: 0;bottom: 0;left: 50%;z-index: 0;}#sk-container-id-2 div.sk-serial {display: flex;flex-direction: column;align-items: center;background-color: white;padding-right: 0.2em;padding-left: 0.2em;position: relative;}#sk-container-id-2 div.sk-item {position: relative;z-index: 1;}#sk-container-id-2 div.sk-parallel {display: flex;align-items: stretch;justify-content: center;background-color: white;position: relative;}#sk-container-id-2 div.sk-item::before, #sk-container-id-2 div.sk-parallel-item::before {content: \"\";position: absolute;border-left: 1px solid gray;box-sizing: border-box;top: 0;bottom: 0;left: 50%;z-index: -1;}#sk-container-id-2 div.sk-parallel-item {display: flex;flex-direction: column;z-index: 1;position: relative;background-color: white;}#sk-container-id-2 div.sk-parallel-item:first-child::after {align-self: flex-end;width: 50%;}#sk-container-id-2 div.sk-parallel-item:last-child::after {align-self: flex-start;width: 50%;}#sk-container-id-2 div.sk-parallel-item:only-child::after {width: 0;}#sk-container-id-2 div.sk-dashed-wrapped {border: 1px dashed gray;margin: 0 0.4em 0.5em 0.4em;box-sizing: border-box;padding-bottom: 0.4em;background-color: white;}#sk-container-id-2 div.sk-label label {font-family: monospace;font-weight: bold;display: inline-block;line-height: 1.2em;}#sk-container-id-2 div.sk-label-container {text-align: center;}#sk-container-id-2 div.sk-container {/* jupyter's `normalize.less` sets `[hidden] { display: none; }` but bootstrap.min.css set `[hidden] { display: none !important; }` so we also need the `!important` here to be able to override the default hidden behavior on the sphinx rendered scikit-learn.org. See: https://github.com/scikit-learn/scikit-learn/issues/21755 */display: inline-block !important;position: relative;}#sk-container-id-2 div.sk-text-repr-fallback {display: none;}</style><div id=\"sk-container-id-2\" class=\"sk-top-container\"><div class=\"sk-text-repr-fallback\"><pre>RandomForestRegressor(random_state=1)</pre><b>In a Jupyter environment, please rerun this cell to show the HTML representation or trust the notebook. <br />On GitHub, the HTML representation is unable to render, please try loading this page with nbviewer.org.</b></div><div class=\"sk-container\" hidden><div class=\"sk-item\"><div class=\"sk-estimator sk-toggleable\"><input class=\"sk-toggleable__control sk-hidden--visually\" id=\"sk-estimator-id-2\" type=\"checkbox\" checked><label for=\"sk-estimator-id-2\" class=\"sk-toggleable__label sk-toggleable__label-arrow\">RandomForestRegressor</label><div class=\"sk-toggleable__content\"><pre>RandomForestRegressor(random_state=1)</pre></div></div></div></div></div>"
      ],
      "text/plain": [
       "RandomForestRegressor(random_state=1)"
      ]
     },
     "execution_count": 37,
     "metadata": {},
     "output_type": "execute_result"
    }
   ],
   "source": [
    "from sklearn.ensemble import RandomForestRegressor\n",
    "model = RandomForestRegressor(random_state=1)\n",
    "model.fit(df[[\"Time_taken(min)\",'start_lat','start_lng','end_lat','end_lng',\"rideable_type\"]],df.member_casual)"
   ]
  },
  {
   "cell_type": "code",
   "execution_count": 38,
   "id": "25d470ee",
   "metadata": {},
   "outputs": [
    {
     "name": "stdout",
     "output_type": "stream",
     "text": [
      "feature:0, Score:0.41710116685255777\n",
      "feature:1, Score:0.1369655897901877\n",
      "feature:2, Score:0.14147350804337788\n",
      "feature:3, Score:0.13298435328962943\n",
      "feature:4, Score:0.13438000028830868\n",
      "feature:5, Score:0.03709538173593851\n"
     ]
    },
    {
     "data": {
      "image/png": "[encoded data removed]",
      "text/plain": [
       "<Figure size 432x288 with 1 Axes>"
      ]
     },
     "metadata": {
      "needs_background": "light"
     },
     "output_type": "display_data"
    }
   ],
   "source": [
    "import numpy as np\n",
    "importances = model.feature_importances_\n",
    "for i,v in enumerate(importances):\n",
    "    print(f'feature:{i}, Score:{v}')\n",
    "    # plot feature importance\n",
    "plt.bar([x for x in range(len(importances))], importances)\n",
    "plt.show()"
   ]
  },
  {
   "cell_type": "code",
   "execution_count": 11,
   "id": "6a336aff",
   "metadata": {},
   "outputs": [
    {
     "data": {
      "text/plain": [
       "<AxesSubplot:ylabel='rideable_type'>"
      ]
     },
     "execution_count": 11,
     "metadata": {},
     "output_type": "execute_result"
    },
    {
     "data": {
      "image/png": "[encoded data removed]",
      "text/plain": [
       "<Figure size 432x288 with 1 Axes>"
      ]
     },
     "metadata": {},
     "output_type": "display_data"
    }
   ],
   "source": [
    "import matplotlib.pyplot as plt\n",
    "x[\"rideable_type\"].value_counts().plot(kind=\"pie\")"
   ]
  },
  {
   "cell_type": "code",
   "execution_count": 10,
   "id": "fddf2147",
   "metadata": {},
   "outputs": [
    {
     "data": {
      "text/plain": [
       "<AxesSubplot:ylabel='member_casual'>"
      ]
     },
     "execution_count": 10,
     "metadata": {},
     "output_type": "execute_result"
    },
    {
     "data": {
      "image/png": "[encoded data removed]",
      "text/plain": [
       "<Figure size 432x288 with 1 Axes>"
      ]
     },
     "metadata": {},
     "output_type": "display_data"
    }
   ],
   "source": [
    "x[\"member_casual\"].value_counts().plot(kind=\"pie\")"
   ]
  },
  {
   "cell_type": "code",
   "execution_count": 51,
   "id": "26d3d556",
   "metadata": {},
   "outputs": [
    {
     "name": "stderr",
     "output_type": "stream",
     "text": [
      "c:\\users\\hp\\appdata\\local\\programs\\python\\python39\\lib\\site-packages\\seaborn\\distributions.py:2619: FutureWarning: `distplot` is a deprecated function and will be removed in a future version. Please adapt your code to use either `displot` (a figure-level function with similar flexibility) or `histplot` (an axes-level function for histograms).\n",
      "  warnings.warn(msg, FutureWarning)\n"
     ]
    },
    {
     "data": {
      "text/plain": [
       "<AxesSubplot:xlabel='Time_taken(min)', ylabel='Density'>"
      ]
     },
     "execution_count": 51,
     "metadata": {},
     "output_type": "execute_result"
    },
    {
     "data": {
      "image/png": "[encoded data removed]",
      "text/plain": [
       "<Figure size 1152x288 with 1 Axes>"
      ]
     },
     "metadata": {
      "needs_background": "light"
     },
     "output_type": "display_data"
    }
   ],
   "source": [
    "fig, ax = plt.subplots(figsize=[16,4])\n",
    "sns.distplot(df[\"Time_taken(min)\"],ax=ax,color=\"red\")"
   ]
  },
  {
   "cell_type": "markdown",
   "id": "626b8583",
   "metadata": {},
   "source": [
    "# Outliers"
   ]
  },
  {
   "cell_type": "code",
   "execution_count": 39,
   "id": "c27ebe1c",
   "metadata": {},
   "outputs": [
    {
     "data": {
      "text/plain": [
       "<AxesSubplot:>"
      ]
     },
     "execution_count": 39,
     "metadata": {},
     "output_type": "execute_result"
    },
    {
     "data": {
      "image/png": "[encoded data removed]",
      "text/plain": [
       "<Figure size 432x288 with 1 Axes>"
      ]
     },
     "metadata": {
      "needs_background": "light"
     },
     "output_type": "display_data"
    }
   ],
   "source": [
    "df.boxplot(column = ['Time_taken(min)'])"
   ]
  },
  {
   "cell_type": "code",
   "execution_count": 69,
   "id": "22c6ab47",
   "metadata": {},
   "outputs": [
    {
     "data": {
      "text/plain": [
       "ride_id                       object\n",
       "rideable_type                float64\n",
       "started_at            datetime64[ns]\n",
       "ended_at              datetime64[ns]\n",
       "start_station_name            object\n",
       "start_station_id              object\n",
       "end_station_name              object\n",
       "end_station_id                object\n",
       "start_lat                    float64\n",
       "start_lng                    float64\n",
       "end_lat                      float64\n",
       "end_lng                      float64\n",
       "member_casual                float64\n",
       "Time_taken(min)              float64\n",
       "log                          float64\n",
       "dtype: object"
      ]
     },
     "execution_count": 69,
     "metadata": {},
     "output_type": "execute_result"
    }
   ],
   "source": [
    "df.dtypes"
   ]
  },
  {
   "cell_type": "markdown",
   "id": "1092eb93",
   "metadata": {},
   "source": [
    "# IQR"
   ]
  },
  {
   "cell_type": "code",
   "execution_count": 40,
   "id": "f13c402c",
   "metadata": {},
   "outputs": [
    {
     "name": "stdout",
     "output_type": "stream",
     "text": [
      "48.78541666666666\n",
      "-19.03125\n"
     ]
    }
   ],
   "source": [
    "Q1 = df['Time_taken(min)'].quantile(.25)\n",
    "Q3 = df['Time_taken(min)'].quantile(.75)\n",
    "IQR = Q3 - Q1\n",
    "uw_rate = Q3 + (1.5 * IQR)\n",
    "lw_rate = Q1 - (1.5 * IQR)\n",
    "print(uw_rate)\n",
    "print(lw_rate)"
   ]
  },
  {
   "cell_type": "markdown",
   "id": "91d94387",
   "metadata": {},
   "source": [
    "# log transformation"
   ]
  },
  {
   "cell_type": "code",
   "execution_count": 41,
   "id": "40ff0e20",
   "metadata": {},
   "outputs": [
    {
     "name": "stdout",
     "output_type": "stream",
     "text": [
      "13.47690400651647\n",
      "-0.8151452079419248\n"
     ]
    },
    {
     "name": "stderr",
     "output_type": "stream",
     "text": [
      "C:\\Users\\hp\\AppData\\Local\\Temp\\ipykernel_14340\\2901698736.py:1: SettingWithCopyWarning: \n",
      "A value is trying to be set on a copy of a slice from a DataFrame.\n",
      "Try using .loc[row_indexer,col_indexer] = value instead\n",
      "\n",
      "See the caveats in the documentation: https://pandas.pydata.org/pandas-docs/stable/user_guide/indexing.html#returning-a-view-versus-a-copy\n",
      "  df['log'] = df['Time_taken(min)'].map(lambda i : np.log(i) if i > 0 else 0)\n"
     ]
    }
   ],
   "source": [
    "df['log'] = df['Time_taken(min)'].map(lambda i : np.log(i) if i > 0 else 0)\n",
    "print(df['Time_taken(min)'].skew())\n",
    "print(df['log'].skew())"
   ]
  },
  {
   "cell_type": "markdown",
   "id": "3eaf1eda",
   "metadata": {},
   "source": [
    "# flooring and capping"
   ]
  },
  {
   "cell_type": "code",
   "execution_count": 42,
   "id": "04ff4d93",
   "metadata": {},
   "outputs": [
    {
     "name": "stderr",
     "output_type": "stream",
     "text": [
      "C:\\Users\\hp\\AppData\\Local\\Temp\\ipykernel_14340\\2798509313.py:1: SettingWithCopyWarning: \n",
      "A value is trying to be set on a copy of a slice from a DataFrame.\n",
      "Try using .loc[row_indexer,col_indexer] = value instead\n",
      "\n",
      "See the caveats in the documentation: https://pandas.pydata.org/pandas-docs/stable/user_guide/indexing.html#returning-a-view-versus-a-copy\n",
      "  df['Time_taken(min)'] = np.where(df['Time_taken(min)'] < lw_rate , lw_rate, df['Time_taken(min)'])\n",
      "C:\\Users\\hp\\AppData\\Local\\Temp\\ipykernel_14340\\2798509313.py:2: SettingWithCopyWarning: \n",
      "A value is trying to be set on a copy of a slice from a DataFrame.\n",
      "Try using .loc[row_indexer,col_indexer] = value instead\n",
      "\n",
      "See the caveats in the documentation: https://pandas.pydata.org/pandas-docs/stable/user_guide/indexing.html#returning-a-view-versus-a-copy\n",
      "  df['Time_taken(min)'] = np.where(df['Time_taken(min)'] > uw_rate, uw_rate, df['Time_taken(min)'])\n"
     ]
    }
   ],
   "source": [
    "df['Time_taken(min)'] = np.where(df['Time_taken(min)'] < lw_rate , lw_rate, df['Time_taken(min)'])\n",
    "df['Time_taken(min)'] = np.where(df['Time_taken(min)'] > uw_rate, uw_rate, df['Time_taken(min)'])"
   ]
  },
  {
   "cell_type": "code",
   "execution_count": 66,
   "id": "3ed7952a",
   "metadata": {},
   "outputs": [
    {
     "name": "stdout",
     "output_type": "stream",
     "text": [
      "1.083660326558945\n"
     ]
    },
    {
     "data": {
      "image/png": "[encoded data removed]",
      "text/plain": [
       "<Figure size 432x288 with 1 Axes>"
      ]
     },
     "metadata": {
      "needs_background": "light"
     },
     "output_type": "display_data"
    }
   ],
   "source": [
    "df.boxplot(column = ['Time_taken(min)'])\n",
    "print(df['Time_taken(min)'].skew())"
   ]
  },
  {
   "cell_type": "code",
   "execution_count": 44,
   "id": "6380e4fa",
   "metadata": {},
   "outputs": [
    {
     "name": "stdout",
     "output_type": "stream",
     "text": [
      "Before handling outliers in member_casual\n"
     ]
    },
    {
     "data": {
      "image/png": "[encoded data removed]",
      "text/plain": [
       "<Figure size 432x288 with 1 Axes>"
      ]
     },
     "metadata": {
      "needs_background": "light"
     },
     "output_type": "display_data"
    },
    {
     "name": "stdout",
     "output_type": "stream",
     "text": [
      "2.5\n",
      "-1.5\n",
      "After handling outliers in member_casual\n"
     ]
    },
    {
     "name": "stderr",
     "output_type": "stream",
     "text": [
      "C:\\Users\\hp\\AppData\\Local\\Temp\\ipykernel_14340\\3655312570.py:13: SettingWithCopyWarning: \n",
      "A value is trying to be set on a copy of a slice from a DataFrame.\n",
      "Try using .loc[row_indexer,col_indexer] = value instead\n",
      "\n",
      "See the caveats in the documentation: https://pandas.pydata.org/pandas-docs/stable/user_guide/indexing.html#returning-a-view-versus-a-copy\n",
      "  df[col] = np.where(df[col] < lw , lw, df[col])\n",
      "C:\\Users\\hp\\AppData\\Local\\Temp\\ipykernel_14340\\3655312570.py:14: SettingWithCopyWarning: \n",
      "A value is trying to be set on a copy of a slice from a DataFrame.\n",
      "Try using .loc[row_indexer,col_indexer] = value instead\n",
      "\n",
      "See the caveats in the documentation: https://pandas.pydata.org/pandas-docs/stable/user_guide/indexing.html#returning-a-view-versus-a-copy\n",
      "  df[col] = np.where(df[col] > uw, uw, df[col])\n"
     ]
    },
    {
     "data": {
      "image/png": "[encoded data removed]",
      "text/plain": [
       "<Figure size 432x288 with 1 Axes>"
      ]
     },
     "metadata": {
      "needs_background": "light"
     },
     "output_type": "display_data"
    },
    {
     "name": "stdout",
     "output_type": "stream",
     "text": [
      "Before handling outliers in rideable_type\n"
     ]
    },
    {
     "data": {
      "image/png": "[encoded data removed]",
      "text/plain": [
       "<Figure size 432x288 with 1 Axes>"
      ]
     },
     "metadata": {
      "needs_background": "light"
     },
     "output_type": "display_data"
    },
    {
     "name": "stdout",
     "output_type": "stream",
     "text": [
      "0.0\n",
      "0.0\n",
      "After handling outliers in rideable_type\n"
     ]
    },
    {
     "name": "stderr",
     "output_type": "stream",
     "text": [
      "C:\\Users\\hp\\AppData\\Local\\Temp\\ipykernel_14340\\3655312570.py:13: SettingWithCopyWarning: \n",
      "A value is trying to be set on a copy of a slice from a DataFrame.\n",
      "Try using .loc[row_indexer,col_indexer] = value instead\n",
      "\n",
      "See the caveats in the documentation: https://pandas.pydata.org/pandas-docs/stable/user_guide/indexing.html#returning-a-view-versus-a-copy\n",
      "  df[col] = np.where(df[col] < lw , lw, df[col])\n",
      "C:\\Users\\hp\\AppData\\Local\\Temp\\ipykernel_14340\\3655312570.py:14: SettingWithCopyWarning: \n",
      "A value is trying to be set on a copy of a slice from a DataFrame.\n",
      "Try using .loc[row_indexer,col_indexer] = value instead\n",
      "\n",
      "See the caveats in the documentation: https://pandas.pydata.org/pandas-docs/stable/user_guide/indexing.html#returning-a-view-versus-a-copy\n",
      "  df[col] = np.where(df[col] > uw, uw, df[col])\n"
     ]
    },
    {
     "data": {
      "image/png": "[encoded data removed]",
      "text/plain": [
       "<Figure size 432x288 with 1 Axes>"
      ]
     },
     "metadata": {
      "needs_background": "light"
     },
     "output_type": "display_data"
    }
   ],
   "source": [
    "d=[\"member_casual\",\"rideable_type\"]\n",
    "def outlier_handle(col):\n",
    "    print(f'Before handling outliers in {col}')\n",
    "    df.boxplot(column = [col])\n",
    "    plt.show()\n",
    "    Q1 = df[col].quantile(.25)\n",
    "    Q3 = df[col].quantile(.75)\n",
    "    IQR = Q3 - Q1\n",
    "    uw = Q3 + (1.5 * IQR)\n",
    "    lw = Q1 - (1.5 * IQR)\n",
    "    print(uw)\n",
    "    print(lw)\n",
    "    df[col] = np.where(df[col] < lw , lw, df[col])\n",
    "    df[col] = np.where(df[col] > uw, uw, df[col])\n",
    "    print(f'After handling outliers in {col}')\n",
    "    df.boxplot(column = [col])\n",
    "    plt.show()\n",
    "for i in d:\n",
    "    outlier_handle(i)"
   ]
  },
  {
   "cell_type": "markdown",
   "id": "0122e520",
   "metadata": {},
   "source": [
    "# Model implementaion: Random forest"
   ]
  },
  {
   "cell_type": "code",
   "execution_count": 45,
   "id": "72689f27",
   "metadata": {},
   "outputs": [
    {
     "name": "stderr",
     "output_type": "stream",
     "text": [
      "C:\\Users\\hp\\AppData\\Local\\Temp\\ipykernel_14340\\2900265915.py:6: DataConversionWarning: A column-vector y was passed when a 1d array was expected. Please change the shape of y to (n_samples,), for example using ravel().\n",
      "  rf = RandomForestClassifier(n_estimators=500,random_state=5).fit(x_train, y_train)\n"
     ]
    }
   ],
   "source": [
    "from sklearn.model_selection import train_test_split\n",
    "from sklearn.ensemble import RandomForestClassifier\n",
    "x=df[['Time_taken(min)',\"rideable_type\"]]\n",
    "y = df[['member_casual']]\n",
    "x_train, x_test, y_train, y_test = train_test_split(x, y, test_size=0.3)\n",
    "rf = RandomForestClassifier(n_estimators=500,random_state=5).fit(x_train, y_train)"
   ]
  },
  {
   "cell_type": "code",
   "execution_count": 46,
   "id": "c6d5384d",
   "metadata": {},
   "outputs": [],
   "source": [
    "y_pred=rf.predict(x_test)"
   ]
  },
  {
   "cell_type": "markdown",
   "id": "7e601f1a",
   "metadata": {},
   "source": [
    "training set"
   ]
  },
  {
   "cell_type": "code",
   "execution_count": 47,
   "id": "ee978878",
   "metadata": {},
   "outputs": [
    {
     "data": {
      "text/plain": [
       "0.7504285714285714"
      ]
     },
     "execution_count": 47,
     "metadata": {},
     "output_type": "execute_result"
    }
   ],
   "source": [
    "rf.score(x_train,y_train)"
   ]
  },
  {
   "cell_type": "markdown",
   "id": "b2487f8d",
   "metadata": {},
   "source": [
    "test set"
   ]
  },
  {
   "cell_type": "code",
   "execution_count": 48,
   "id": "9a09c7b9",
   "metadata": {},
   "outputs": [
    {
     "data": {
      "text/plain": [
       "0.5703333333333334"
      ]
     },
     "execution_count": 48,
     "metadata": {},
     "output_type": "execute_result"
    }
   ],
   "source": [
    "rf.score(x_test,y_test)"
   ]
  },
  {
   "cell_type": "markdown",
   "id": "dbf261ce",
   "metadata": {},
   "source": [
    "# Evaluation"
   ]
  },
  {
   "cell_type": "code",
   "execution_count": 49,
   "id": "020fe70f",
   "metadata": {},
   "outputs": [
    {
     "data": {
      "text/plain": [
       "array([[1007,  678],\n",
       "       [ 611,  704]], dtype=int64)"
      ]
     },
     "execution_count": 49,
     "metadata": {},
     "output_type": "execute_result"
    }
   ],
   "source": [
    "from sklearn.metrics import confusion_matrix,classification_report\n",
    "cm1=confusion_matrix(y_test,y_pred)\n",
    "cm1"
   ]
  },
  {
   "cell_type": "code",
   "execution_count": 50,
   "id": "cf6b2315",
   "metadata": {},
   "outputs": [
    {
     "name": "stdout",
     "output_type": "stream",
     "text": [
      "              precision    recall  f1-score   support\n",
      "\n",
      "         0.0       0.62      0.60      0.61      1685\n",
      "         1.0       0.51      0.54      0.52      1315\n",
      "\n",
      "    accuracy                           0.57      3000\n",
      "   macro avg       0.57      0.57      0.57      3000\n",
      "weighted avg       0.57      0.57      0.57      3000\n",
      "\n"
     ]
    }
   ],
   "source": [
    "print(classification_report(y_test,y_pred))"
   ]
  },
  {
   "cell_type": "markdown",
   "id": "29ca0532",
   "metadata": {},
   "source": [
    "# Model implementation: KNN"
   ]
  },
  {
   "cell_type": "code",
   "execution_count": 51,
   "id": "cbbc19dd",
   "metadata": {},
   "outputs": [
    {
     "name": "stderr",
     "output_type": "stream",
     "text": [
      "c:\\users\\hp\\appdata\\local\\programs\\python\\python39\\lib\\site-packages\\sklearn\\neighbors\\_classification.py:200: DataConversionWarning: A column-vector y was passed when a 1d array was expected. Please change the shape of y to (n_samples,), for example using ravel().\n",
      "  return self._fit(X, y)\n"
     ]
    },
    {
     "data": {
      "text/html": [
       "<style>#sk-container-id-3 {color: black;background-color: white;}#sk-container-id-3 pre{padding: 0;}#sk-container-id-3 div.sk-toggleable {background-color: white;}#sk-container-id-3 label.sk-toggleable__label {cursor: pointer;display: block;width: 100%;margin-bottom: 0;padding: 0.3em;box-sizing: border-box;text-align: center;}#sk-container-id-3 label.sk-toggleable__label-arrow:before {content: \"▸\";float: left;margin-right: 0.25em;color: #696969;}#sk-container-id-3 label.sk-toggleable__label-arrow:hover:before {color: black;}#sk-container-id-3 div.sk-estimator:hover label.sk-toggleable__label-arrow:before {color: black;}#sk-container-id-3 div.sk-toggleable__content {max-height: 0;max-width: 0;overflow: hidden;text-align: left;background-color: #f0f8ff;}#sk-container-id-3 div.sk-toggleable__content pre {margin: 0.2em;color: black;border-radius: 0.25em;background-color: #f0f8ff;}#sk-container-id-3 input.sk-toggleable__control:checked~div.sk-toggleable__content {max-height: 200px;max-width: 100%;overflow: auto;}#sk-container-id-3 input.sk-toggleable__control:checked~label.sk-toggleable__label-arrow:before {content: \"▾\";}#sk-container-id-3 div.sk-estimator input.sk-toggleable__control:checked~label.sk-toggleable__label {background-color: #d4ebff;}#sk-container-id-3 div.sk-label input.sk-toggleable__control:checked~label.sk-toggleable__label {background-color: #d4ebff;}#sk-container-id-3 input.sk-hidden--visually {border: 0;clip: rect(1px 1px 1px 1px);clip: rect(1px, 1px, 1px, 1px);height: 1px;margin: -1px;overflow: hidden;padding: 0;position: absolute;width: 1px;}#sk-container-id-3 div.sk-estimator {font-family: monospace;background-color: #f0f8ff;border: 1px dotted black;border-radius: 0.25em;box-sizing: border-box;margin-bottom: 0.5em;}#sk-container-id-3 div.sk-estimator:hover {background-color: #d4ebff;}#sk-container-id-3 div.sk-parallel-item::after {content: \"\";width: 100%;border-bottom: 1px solid gray;flex-grow: 1;}#sk-container-id-3 div.sk-label:hover label.sk-toggleable__label {background-color: #d4ebff;}#sk-container-id-3 div.sk-serial::before {content: \"\";position: absolute;border-left: 1px solid gray;box-sizing: border-box;top: 0;bottom: 0;left: 50%;z-index: 0;}#sk-container-id-3 div.sk-serial {display: flex;flex-direction: column;align-items: center;background-color: white;padding-right: 0.2em;padding-left: 0.2em;position: relative;}#sk-container-id-3 div.sk-item {position: relative;z-index: 1;}#sk-container-id-3 div.sk-parallel {display: flex;align-items: stretch;justify-content: center;background-color: white;position: relative;}#sk-container-id-3 div.sk-item::before, #sk-container-id-3 div.sk-parallel-item::before {content: \"\";position: absolute;border-left: 1px solid gray;box-sizing: border-box;top: 0;bottom: 0;left: 50%;z-index: -1;}#sk-container-id-3 div.sk-parallel-item {display: flex;flex-direction: column;z-index: 1;position: relative;background-color: white;}#sk-container-id-3 div.sk-parallel-item:first-child::after {align-self: flex-end;width: 50%;}#sk-container-id-3 div.sk-parallel-item:last-child::after {align-self: flex-start;width: 50%;}#sk-container-id-3 div.sk-parallel-item:only-child::after {width: 0;}#sk-container-id-3 div.sk-dashed-wrapped {border: 1px dashed gray;margin: 0 0.4em 0.5em 0.4em;box-sizing: border-box;padding-bottom: 0.4em;background-color: white;}#sk-container-id-3 div.sk-label label {font-family: monospace;font-weight: bold;display: inline-block;line-height: 1.2em;}#sk-container-id-3 div.sk-label-container {text-align: center;}#sk-container-id-3 div.sk-container {/* jupyter's `normalize.less` sets `[hidden] { display: none; }` but bootstrap.min.css set `[hidden] { display: none !important; }` so we also need the `!important` here to be able to override the default hidden behavior on the sphinx rendered scikit-learn.org. See: https://github.com/scikit-learn/scikit-learn/issues/21755 */display: inline-block !important;position: relative;}#sk-container-id-3 div.sk-text-repr-fallback {display: none;}</style><div id=\"sk-container-id-3\" class=\"sk-top-container\"><div class=\"sk-text-repr-fallback\"><pre>KNeighborsClassifier(n_neighbors=2)</pre><b>In a Jupyter environment, please rerun this cell to show the HTML representation or trust the notebook. <br />On GitHub, the HTML representation is unable to render, please try loading this page with nbviewer.org.</b></div><div class=\"sk-container\" hidden><div class=\"sk-item\"><div class=\"sk-estimator sk-toggleable\"><input class=\"sk-toggleable__control sk-hidden--visually\" id=\"sk-estimator-id-3\" type=\"checkbox\" checked><label for=\"sk-estimator-id-3\" class=\"sk-toggleable__label sk-toggleable__label-arrow\">KNeighborsClassifier</label><div class=\"sk-toggleable__content\"><pre>KNeighborsClassifier(n_neighbors=2)</pre></div></div></div></div></div>"
      ],
      "text/plain": [
       "KNeighborsClassifier(n_neighbors=2)"
      ]
     },
     "execution_count": 51,
     "metadata": {},
     "output_type": "execute_result"
    }
   ],
   "source": [
    "from sklearn.neighbors import KNeighborsClassifier\n",
    "X=df[['Time_taken(min)',\"rideable_type\"]]\n",
    "y = df[['member_casual']]\n",
    "X_train, X_test, y_train, y_test = train_test_split(X, y, test_size=0.25, random_state=142)\n",
    "knn = KNeighborsClassifier(n_neighbors=2)\n",
    "knn.fit(X_train, y_train)"
   ]
  },
  {
   "cell_type": "code",
   "execution_count": 52,
   "id": "d966ff60",
   "metadata": {},
   "outputs": [],
   "source": [
    "pred = knn.predict(X_test)"
   ]
  },
  {
   "cell_type": "markdown",
   "id": "aa937d50",
   "metadata": {},
   "source": [
    "training set"
   ]
  },
  {
   "cell_type": "code",
   "execution_count": 53,
   "id": "027adb30",
   "metadata": {},
   "outputs": [
    {
     "data": {
      "text/plain": [
       "0.6669333333333334"
      ]
     },
     "execution_count": 53,
     "metadata": {},
     "output_type": "execute_result"
    }
   ],
   "source": [
    "score1=knn.score(X_train,y_train)\n",
    "score1"
   ]
  },
  {
   "cell_type": "markdown",
   "id": "ad26d691",
   "metadata": {},
   "source": [
    "testing set"
   ]
  },
  {
   "cell_type": "code",
   "execution_count": 54,
   "id": "70977ab4",
   "metadata": {},
   "outputs": [
    {
     "data": {
      "text/plain": [
       "0.5668"
      ]
     },
     "execution_count": 54,
     "metadata": {},
     "output_type": "execute_result"
    }
   ],
   "source": [
    "score=knn.score(X_test,y_test)\n",
    "score"
   ]
  },
  {
   "cell_type": "markdown",
   "id": "8bd46cbc",
   "metadata": {},
   "source": [
    "# Evaluation"
   ]
  },
  {
   "cell_type": "code",
   "execution_count": 55,
   "id": "fa57ee2a",
   "metadata": {},
   "outputs": [
    {
     "data": {
      "text/plain": [
       "array([[1116,  228],\n",
       "       [ 855,  301]], dtype=int64)"
      ]
     },
     "execution_count": 55,
     "metadata": {},
     "output_type": "execute_result"
    }
   ],
   "source": [
    "cm2=confusion_matrix(y_test,pred)\n",
    "cm2"
   ]
  },
  {
   "cell_type": "code",
   "execution_count": 56,
   "id": "06a5e17a",
   "metadata": {},
   "outputs": [
    {
     "name": "stdout",
     "output_type": "stream",
     "text": [
      "              precision    recall  f1-score   support\n",
      "\n",
      "         0.0       0.57      0.83      0.67      1344\n",
      "         1.0       0.57      0.26      0.36      1156\n",
      "\n",
      "    accuracy                           0.57      2500\n",
      "   macro avg       0.57      0.55      0.52      2500\n",
      "weighted avg       0.57      0.57      0.53      2500\n",
      "\n"
     ]
    }
   ],
   "source": [
    "print(classification_report(y_test,pred))"
   ]
  },
  {
   "cell_type": "markdown",
   "id": "e4867e29",
   "metadata": {},
   "source": [
    "# Model Implementation: Logistic Regression"
   ]
  },
  {
   "cell_type": "code",
   "execution_count": 57,
   "id": "050ffa4d",
   "metadata": {},
   "outputs": [
    {
     "data": {
      "text/html": [
       "<style>#sk-container-id-4 {color: black;background-color: white;}#sk-container-id-4 pre{padding: 0;}#sk-container-id-4 div.sk-toggleable {background-color: white;}#sk-container-id-4 label.sk-toggleable__label {cursor: pointer;display: block;width: 100%;margin-bottom: 0;padding: 0.3em;box-sizing: border-box;text-align: center;}#sk-container-id-4 label.sk-toggleable__label-arrow:before {content: \"▸\";float: left;margin-right: 0.25em;color: #696969;}#sk-container-id-4 label.sk-toggleable__label-arrow:hover:before {color: black;}#sk-container-id-4 div.sk-estimator:hover label.sk-toggleable__label-arrow:before {color: black;}#sk-container-id-4 div.sk-toggleable__content {max-height: 0;max-width: 0;overflow: hidden;text-align: left;background-color: #f0f8ff;}#sk-container-id-4 div.sk-toggleable__content pre {margin: 0.2em;color: black;border-radius: 0.25em;background-color: #f0f8ff;}#sk-container-id-4 input.sk-toggleable__control:checked~div.sk-toggleable__content {max-height: 200px;max-width: 100%;overflow: auto;}#sk-container-id-4 input.sk-toggleable__control:checked~label.sk-toggleable__label-arrow:before {content: \"▾\";}#sk-container-id-4 div.sk-estimator input.sk-toggleable__control:checked~label.sk-toggleable__label {background-color: #d4ebff;}#sk-container-id-4 div.sk-label input.sk-toggleable__control:checked~label.sk-toggleable__label {background-color: #d4ebff;}#sk-container-id-4 input.sk-hidden--visually {border: 0;clip: rect(1px 1px 1px 1px);clip: rect(1px, 1px, 1px, 1px);height: 1px;margin: -1px;overflow: hidden;padding: 0;position: absolute;width: 1px;}#sk-container-id-4 div.sk-estimator {font-family: monospace;background-color: #f0f8ff;border: 1px dotted black;border-radius: 0.25em;box-sizing: border-box;margin-bottom: 0.5em;}#sk-container-id-4 div.sk-estimator:hover {background-color: #d4ebff;}#sk-container-id-4 div.sk-parallel-item::after {content: \"\";width: 100%;border-bottom: 1px solid gray;flex-grow: 1;}#sk-container-id-4 div.sk-label:hover label.sk-toggleable__label {background-color: #d4ebff;}#sk-container-id-4 div.sk-serial::before {content: \"\";position: absolute;border-left: 1px solid gray;box-sizing: border-box;top: 0;bottom: 0;left: 50%;z-index: 0;}#sk-container-id-4 div.sk-serial {display: flex;flex-direction: column;align-items: center;background-color: white;padding-right: 0.2em;padding-left: 0.2em;position: relative;}#sk-container-id-4 div.sk-item {position: relative;z-index: 1;}#sk-container-id-4 div.sk-parallel {display: flex;align-items: stretch;justify-content: center;background-color: white;position: relative;}#sk-container-id-4 div.sk-item::before, #sk-container-id-4 div.sk-parallel-item::before {content: \"\";position: absolute;border-left: 1px solid gray;box-sizing: border-box;top: 0;bottom: 0;left: 50%;z-index: -1;}#sk-container-id-4 div.sk-parallel-item {display: flex;flex-direction: column;z-index: 1;position: relative;background-color: white;}#sk-container-id-4 div.sk-parallel-item:first-child::after {align-self: flex-end;width: 50%;}#sk-container-id-4 div.sk-parallel-item:last-child::after {align-self: flex-start;width: 50%;}#sk-container-id-4 div.sk-parallel-item:only-child::after {width: 0;}#sk-container-id-4 div.sk-dashed-wrapped {border: 1px dashed gray;margin: 0 0.4em 0.5em 0.4em;box-sizing: border-box;padding-bottom: 0.4em;background-color: white;}#sk-container-id-4 div.sk-label label {font-family: monospace;font-weight: bold;display: inline-block;line-height: 1.2em;}#sk-container-id-4 div.sk-label-container {text-align: center;}#sk-container-id-4 div.sk-container {/* jupyter's `normalize.less` sets `[hidden] { display: none; }` but bootstrap.min.css set `[hidden] { display: none !important; }` so we also need the `!important` here to be able to override the default hidden behavior on the sphinx rendered scikit-learn.org. See: https://github.com/scikit-learn/scikit-learn/issues/21755 */display: inline-block !important;position: relative;}#sk-container-id-4 div.sk-text-repr-fallback {display: none;}</style><div id=\"sk-container-id-4\" class=\"sk-top-container\"><div class=\"sk-text-repr-fallback\"><pre>LogisticRegression()</pre><b>In a Jupyter environment, please rerun this cell to show the HTML representation or trust the notebook. <br />On GitHub, the HTML representation is unable to render, please try loading this page with nbviewer.org.</b></div><div class=\"sk-container\" hidden><div class=\"sk-item\"><div class=\"sk-estimator sk-toggleable\"><input class=\"sk-toggleable__control sk-hidden--visually\" id=\"sk-estimator-id-4\" type=\"checkbox\" checked><label for=\"sk-estimator-id-4\" class=\"sk-toggleable__label sk-toggleable__label-arrow\">LogisticRegression</label><div class=\"sk-toggleable__content\"><pre>LogisticRegression()</pre></div></div></div></div></div>"
      ],
      "text/plain": [
       "LogisticRegression()"
      ]
     },
     "execution_count": 57,
     "metadata": {},
     "output_type": "execute_result"
    }
   ],
   "source": [
    "from sklearn.linear_model import LogisticRegression\n",
    "logistic = LogisticRegression()\n",
    "x=df[['Time_taken(min)',\"rideable_type\"]]\n",
    "y=df[\"member_casual\"]\n",
    "x_train,x_test,y_train,y_test=train_test_split(x,y,test_size=0.3)\n",
    "logistic.fit(x_train, y_train)"
   ]
  },
  {
   "cell_type": "code",
   "execution_count": 58,
   "id": "8cdfcd77",
   "metadata": {},
   "outputs": [],
   "source": [
    "p=logistic.predict(x_test)"
   ]
  },
  {
   "cell_type": "markdown",
   "id": "0418f106",
   "metadata": {},
   "source": [
    "training set"
   ]
  },
  {
   "cell_type": "code",
   "execution_count": 67,
   "id": "95b59cd1",
   "metadata": {},
   "outputs": [
    {
     "data": {
      "text/plain": [
       "0.6082857142857143"
      ]
     },
     "execution_count": 67,
     "metadata": {},
     "output_type": "execute_result"
    }
   ],
   "source": [
    "p1=logistic.score(x_train,y_train)\n",
    "p1"
   ]
  },
  {
   "cell_type": "markdown",
   "id": "2c6499e6",
   "metadata": {},
   "source": [
    "testing set"
   ]
  },
  {
   "cell_type": "code",
   "execution_count": 68,
   "id": "a7c9deee",
   "metadata": {},
   "outputs": [
    {
     "data": {
      "text/plain": [
       "0.623"
      ]
     },
     "execution_count": 68,
     "metadata": {},
     "output_type": "execute_result"
    }
   ],
   "source": [
    "p2=logistic.score(x_test,y_test)\n",
    "p2"
   ]
  },
  {
   "cell_type": "markdown",
   "id": "f868d768",
   "metadata": {},
   "source": [
    "# Evaluation"
   ]
  },
  {
   "cell_type": "code",
   "execution_count": 61,
   "id": "c4c11ba6",
   "metadata": {},
   "outputs": [
    {
     "data": {
      "text/plain": [
       "array([[1048,  611],\n",
       "       [ 520,  821]], dtype=int64)"
      ]
     },
     "execution_count": 61,
     "metadata": {},
     "output_type": "execute_result"
    }
   ],
   "source": [
    "confusion_matrix(y_test,p)"
   ]
  },
  {
   "cell_type": "code",
   "execution_count": 62,
   "id": "09ac074d",
   "metadata": {},
   "outputs": [
    {
     "name": "stdout",
     "output_type": "stream",
     "text": [
      "              precision    recall  f1-score   support\n",
      "\n",
      "         0.0       0.67      0.63      0.65      1659\n",
      "         1.0       0.57      0.61      0.59      1341\n",
      "\n",
      "    accuracy                           0.62      3000\n",
      "   macro avg       0.62      0.62      0.62      3000\n",
      "weighted avg       0.63      0.62      0.62      3000\n",
      "\n"
     ]
    }
   ],
   "source": [
    "print(classification_report(y_test,p))"
   ]
  },
  {
   "cell_type": "code",
   "execution_count": null,
   "id": "3e04198d",
   "metadata": {},
   "outputs": [],
   "source": []
  },
  {
   "cell_type": "code",
   "execution_count": null,
   "id": "474ca694",
   "metadata": {},
   "outputs": [],
   "source": []
  }
 ],
 "metadata": {
  "kernelspec": {
   "display_name": "Python 3 (ipykernel)",
   "language": "python",
   "name": "python3"
  },
  "language_info": {
   "codemirror_mode": {
    "name": "ipython",
    "version": 3
   },
   "file_extension": ".py",
   "mimetype": "text/x-python",
   "name": "python",
   "nbconvert_exporter": "python",
   "pygments_lexer": "ipython3",
   "version": "3.9.0"
  }
 },
 "nbformat": 4,
 "nbformat_minor": 5
}
